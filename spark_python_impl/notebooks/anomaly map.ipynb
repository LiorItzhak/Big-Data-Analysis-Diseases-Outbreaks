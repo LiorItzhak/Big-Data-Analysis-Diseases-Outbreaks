{
 "cells": [
  {
   "cell_type": "code",
   "execution_count": null,
   "metadata": {},
   "outputs": [],
   "source": [
    "import os\n",
    "import geopandas\n",
    "import pycountry\n",
    "import numpy as np\n",
    "import pandas as pd\n",
    "import matplotlib.pyplot as plt\n",
    "import matplotlib.colors as mcolors\n",
    "from datetime import datetime, timedelta"
   ]
  },
  {
   "cell_type": "code",
   "execution_count": null,
   "metadata": {},
   "outputs": [],
   "source": [
    "def alpha3_to_alpha2(code):\n",
    "    country = pycountry.countries.get(alpha_3=code)\n",
    "    if country is not None:\n",
    "        return country.alpha_2\n",
    "    else:\n",
    "        return None"
   ]
  },
  {
   "cell_type": "code",
   "execution_count": null,
   "metadata": {},
   "outputs": [],
   "source": [
    "world = geopandas.read_file(geopandas.datasets.get_path('naturalearth_lowres'))\n",
    "world['alpha2'] = world.apply(lambda row: alpha3_to_alpha2(row.iso_a3), axis=1)\n",
    "world = world.drop(['pop_est', 'continent', 'gdp_md_est', 'iso_a3'], axis=1)\n",
    "world = world[(world.name != \"Antarctica\")]\n",
    "world = world.to_crs(epsg=3395)\n",
    "world.head()"
   ]
  },
  {
   "cell_type": "code",
   "execution_count": null,
   "metadata": {},
   "outputs": [],
   "source": [
    "anomalies = pd.read_csv('anomalies_final.csv')\n",
    "anomalies.date = pd.to_datetime(anomalies.date)\n",
    "anomalies.score = anomalies.score.abs()\n",
    "anomalies.head()"
   ]
  },
  {
   "cell_type": "code",
   "execution_count": null,
   "metadata": {},
   "outputs": [],
   "source": [
    "start_date = datetime.strptime('2020-01-01', '%Y-%m-%d')\n",
    "end_date = datetime.now()"
   ]
  },
  {
   "cell_type": "code",
   "execution_count": null,
   "metadata": {},
   "outputs": [],
   "source": [
    "def get_score(region):\n",
    "    score = df[df.region==region].score\n",
    "    if len(score)==0:\n",
    "        return 0\n",
    "    return np.array(score)[0]"
   ]
  },
  {
   "cell_type": "code",
   "execution_count": null,
   "metadata": {},
   "outputs": [],
   "source": [
    "cmap = mcolors.LinearSegmentedColormap.from_list(\"\", [\"limegreen\",\"darkorange\",\"firebrick\"])\n",
    "\n",
    "df = anomalies[anomalies.date>=start]\n",
    "df = df[df.date<end]\n",
    "df = df.groupby(df.region).sum().reset_index()\n",
    "world['score'] = world.apply(lambda row: get_score(row.alpha2), axis=1)\n",
    "world.plot(column=world.score, \n",
    "           cmap=cmap, legend=True,\n",
    "           missing_kwds={\n",
    "               \"color\": \"lightgrey\",\n",
    "               \"edgecolor\": \"red\",\n",
    "               \"hatch\": \"/\",\n",
    "               \"label\": \"Missing values\",\n",
    "           })"
   ]
  }
 ],
 "metadata": {
  "kernelspec": {
   "display_name": "Python 3",
   "language": "python",
   "name": "python3"
  },
  "language_info": {
   "codemirror_mode": {
    "name": "ipython",
    "version": 3
   },
   "file_extension": ".py",
   "mimetype": "text/x-python",
   "name": "python",
   "nbconvert_exporter": "python",
   "pygments_lexer": "ipython3",
   "version": "3.7.6"
  }
 },
 "nbformat": 4,
 "nbformat_minor": 4
}
